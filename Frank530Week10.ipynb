{
 "cells": [
  {
   "cell_type": "code",
   "execution_count": 1,
   "metadata": {},
   "outputs": [
    {
     "name": "stdout",
     "output_type": "stream",
     "text": [
      "thinkstats2.py already exists\n",
      "thinkplot.py already exists\n",
      "survival.py already exists\n",
      "nsfg.py already exists\n"
     ]
    }
   ],
   "source": [
    "# usual download function to get provided libraries\n",
    "from os.path import basename, exists\n",
    "def download(url):\n",
    "    filename = basename(url)\n",
    "    if not exists(filename):\n",
    "        from urllib.request import urlretrieve\n",
    "        local, _ = urlretrieve(url, filename)\n",
    "        print(\"Downloaded \" + local)\n",
    "    else:\n",
    "        print(f\"{filename} already exists\")\n",
    "        \n",
    "download(\"https://github.com/AllenDowney/ThinkStats2/raw/master/code/thinkstats2.py\")\n",
    "download(\"https://github.com/AllenDowney/ThinkStats2/raw/master/code/thinkplot.py\")\n",
    "download(\"https://github.com/AllenDowney/ThinkStats2/raw/master/code/survival.py\")\n",
    "download(\"https://github.com/AllenDowney/ThinkStats2/raw/master/code/nsfg.py\")"
   ]
  },
  {
   "cell_type": "code",
   "execution_count": 2,
   "metadata": {},
   "outputs": [],
   "source": [
    "# import libaries I know I will want\n",
    "import thinkplot\n",
    "import thinkstats2\n",
    "import survival\n",
    "import pandas\n",
    "import numpy"
   ]
  },
  {
   "cell_type": "code",
   "execution_count": 5,
   "metadata": {},
   "outputs": [
    {
     "name": "stdout",
     "output_type": "stream",
     "text": [
      "2006_2010_FemRespSetup.dct already exists\n",
      "2006_2010_FemResp.dat.gz already exists\n",
      "Downloaded 2002FemResp.dct\n",
      "Downloaded 2002FemResp.dat.gz\n"
     ]
    }
   ],
   "source": [
    "# download the data files that contain NSFG cycle 6 and 7 \n",
    "download(\"https://github.com/AllenDowney/ThinkStats2/raw/master/code/2006_2010_FemRespSetup.dct\")\n",
    "download(\"https://github.com/AllenDowney/ThinkStats2/raw/master/code/2006_2010_FemResp.dat.gz\")\n",
    "download(\"https://github.com/AllenDowney/ThinkStats2/raw/master/code/2002FemResp.dct\")\n",
    "download(\"https://github.com/AllenDowney/ThinkStats2/raw/master/code/2002FemResp.dat.gz\")"
   ]
  },
  {
   "cell_type": "code",
   "execution_count": 6,
   "metadata": {},
   "outputs": [
    {
     "name": "stderr",
     "output_type": "stream",
     "text": [
      "c:\\Users\\p3083416\\OneDrive - Charter Communications\\Documents\\GitHub\\DSC530-FinalProject\\survival.py:636: FutureWarning: A value is trying to be set on a copy of a DataFrame or Series through chained assignment using an inplace method.\n",
      "The behavior will change in pandas 3.0. This inplace method will never work because the intermediate object on which we are setting values always behaves as a copy.\n",
      "\n",
      "For example, when doing 'df[col].method(value, inplace=True)', try using 'df.method({col: value}, inplace=True)' or df[col] = df[col].method(value) instead, to perform the operation inplace on the original object.\n",
      "\n",
      "\n",
      "  resp.cmmarrhx.replace([9997, 9998, 9999], np.nan, inplace=True)\n",
      "c:\\Users\\p3083416\\OneDrive - Charter Communications\\Documents\\GitHub\\DSC530-FinalProject\\survival.py:636: FutureWarning: A value is trying to be set on a copy of a DataFrame or Series through chained assignment using an inplace method.\n",
      "The behavior will change in pandas 3.0. This inplace method will never work because the intermediate object on which we are setting values always behaves as a copy.\n",
      "\n",
      "For example, when doing 'df[col].method(value, inplace=True)', try using 'df.method({col: value}, inplace=True)' or df[col] = df[col].method(value) instead, to perform the operation inplace on the original object.\n",
      "\n",
      "\n",
      "  resp.cmmarrhx.replace([9997, 9998, 9999], np.nan, inplace=True)\n"
     ]
    }
   ],
   "source": [
    "# load dataframe with cycle 6 and 7 data\n",
    "nsfgRespCycle6 = survival.ReadFemResp2002()\n",
    "nsfgRespCycle7 = survival.ReadFemResp2010()"
   ]
  },
  {
   "cell_type": "code",
   "execution_count": 40,
   "metadata": {},
   "outputs": [
    {
     "name": "stdout",
     "output_type": "stream",
     "text": [
      "   caseid  cmbirth evrmarry  cmmarrhx  cmdivorcx  parity     finalwgt  \\\n",
      "0    2298      902    False       NaN        NaN       4  5556.717241   \n",
      "1    5012      718     True     974.0     1077.0       1  4744.191350   \n",
      "2   11586      708     True     910.0      938.0       1  4744.191350   \n",
      "3    6794     1042    False       NaN        NaN       0  5923.977368   \n",
      "4     616      991    False       NaN        NaN       0  7229.128072   \n",
      "\n",
      "   cmintvw   agemarry        age  year  decade  fives  \n",
      "0     1234        NaN  27.666667    75       7     15  \n",
      "1     1233  21.333333  42.916667    59       5     11  \n",
      "2     1234  16.833333  43.833333    58       5     11  \n",
      "3     1234        NaN  16.000000    86       8     17  \n",
      "4     1233        NaN  20.166667    82       8     16  \n",
      "   caseid  cmbirth evrmarry  cmmarrhx  cmdivorcx  parity      wgtq1q16  \\\n",
      "0   34156      799    False       NaN        NaN       0   2571.376599   \n",
      "1   40081      925     True    1314.0        NaN       0  11716.317848   \n",
      "2   32817      958    False       NaN        NaN       0   6794.156444   \n",
      "3   39968      869    False       NaN        NaN       0   5469.435481   \n",
      "4   27121     1004    False       NaN        NaN       0   6544.538107   \n",
      "\n",
      "   cmintvw      finalwgt   agemarry        age  year  decade  fives  \n",
      "0     1323   2571.376599        NaN  43.666667    66       6     13  \n",
      "1     1323  11716.317848  32.416667  33.166667    77       7     15  \n",
      "2     1287   6794.156444        NaN  27.416667    79       7     15  \n",
      "3     1323   5469.435481        NaN  37.833333    72       7     14  \n",
      "4     1285   6544.538107        NaN  23.416667    83       8     16  \n"
     ]
    }
   ],
   "source": [
    "# test load\n",
    "print(nsfgRespCycle6.head())\n",
    "print(nsfgRespCycle7.head())\n"
   ]
  },
  {
   "cell_type": "code",
   "execution_count": 58,
   "metadata": {},
   "outputs": [
    {
     "name": "stderr",
     "output_type": "stream",
     "text": [
      "C:\\Users\\p3083416\\AppData\\Local\\Temp\\ipykernel_16964\\3980449030.py:7: SettingWithCopyWarning: \n",
      "A value is trying to be set on a copy of a slice from a DataFrame.\n",
      "Try using .loc[row_indexer,col_indexer] = value instead\n",
      "\n",
      "See the caveats in the documentation: https://pandas.pydata.org/pandas-docs/stable/user_guide/indexing.html#returning-a-view-versus-a-copy\n",
      "  nsfgRespCycle6_married[\"cycleSource\"] = \"Cycle6\"\n",
      "C:\\Users\\p3083416\\AppData\\Local\\Temp\\ipykernel_16964\\3980449030.py:8: SettingWithCopyWarning: \n",
      "A value is trying to be set on a copy of a slice from a DataFrame.\n",
      "Try using .loc[row_indexer,col_indexer] = value instead\n",
      "\n",
      "See the caveats in the documentation: https://pandas.pydata.org/pandas-docs/stable/user_guide/indexing.html#returning-a-view-versus-a-copy\n",
      "  nsfgRespCycle7_married[\"cycleSource\"] = \"Cycle7\"\n",
      "C:\\Users\\p3083416\\AppData\\Local\\Temp\\ipykernel_16964\\3980449030.py:11: FutureWarning: A value is trying to be set on a copy of a DataFrame or Series through chained assignment using an inplace method.\n",
      "The behavior will change in pandas 3.0. This inplace method will never work because the intermediate object on which we are setting values always behaves as a copy.\n",
      "\n",
      "For example, when doing 'df[col].method(value, inplace=True)', try using 'df.method({col: value}, inplace=True)' or df[col] = df[col].method(value) instead, to perform the operation inplace on the original object.\n",
      "\n",
      "\n",
      "  allMarriedData.cmdivorcx.replace([9998, 9999], numpy.nan, inplace=True)\n"
     ]
    }
   ],
   "source": [
    "# as we are looking into the survival and hazard function of marriages - only care about rows where the respondent was ever married\n",
    "nsfgRespCycle6 = nsfgRespCycle6.astype({\"evrmarry\": str})\n",
    "nsfgRespCycle7 = nsfgRespCycle7.astype({\"evrmarry\": str})\n",
    "nsfgRespCycle6_married = nsfgRespCycle6[nsfgRespCycle6[\"evrmarry\"] == \"True\"]\n",
    "nsfgRespCycle7_married = nsfgRespCycle7[nsfgRespCycle7[\"evrmarry\"] == \"True\"]\n",
    "# add source field and merge datasets\n",
    "nsfgRespCycle6_married[\"cycleSource\"] = \"Cycle6\"\n",
    "nsfgRespCycle7_married[\"cycleSource\"] = \"Cycle7\"\n",
    "allMarriedData = pandas.concat([nsfgRespCycle6_married, nsfgRespCycle7_married])\n",
    "# clean up the data\n",
    "allMarriedData.cmdivorcx.replace([9998, 9999], numpy.nan, inplace=True)\n"
   ]
  },
  {
   "cell_type": "code",
   "execution_count": 59,
   "metadata": {},
   "outputs": [
    {
     "name": "stdout",
     "output_type": "stream",
     "text": [
      "       caseid  cmbirth evrmarry  cmmarrhx  cmdivorcx  parity      finalwgt  \\\n",
      "1        5012      718     True     974.0     1077.0       1   4744.191350   \n",
      "2       11586      708     True     910.0      938.0       1   4744.191350   \n",
      "5         845      727     True     937.0        NaN       6   4705.681352   \n",
      "8        8656      780     True    1003.0        NaN       3   6520.021223   \n",
      "10       5917      714     True     953.0        NaN       2   3488.586646   \n",
      "...       ...      ...      ...       ...        ...     ...           ...   \n",
      "12270   26745      812     True    1155.0        NaN       2   5220.893454   \n",
      "12271   26914      985     True    1221.0        NaN       2   5152.498030   \n",
      "12273   30517      810     True    1107.0        NaN       3   2830.681441   \n",
      "12275   26372      771     True    1025.0        NaN       4  19328.779624   \n",
      "12277   29718      977     True    1210.0        NaN       3   4876.196382   \n",
      "\n",
      "       cmintvw   agemarry        age  year  decade  fives cycleSource  \\\n",
      "1         1233  21.333333  42.916667    59       5     11      Cycle6   \n",
      "2         1234  16.833333  43.833333    58       5     11      Cycle6   \n",
      "5         1234  17.500000  42.250000    60       6     12      Cycle6   \n",
      "8         1237  18.583333  38.083333    64       6     12      Cycle6   \n",
      "10        1233  19.916667  43.250000    59       5     11      Cycle6   \n",
      "...        ...        ...        ...   ...     ...    ...         ...   \n",
      "12270     1282  28.583333  39.166667    67       6     13      Cycle7   \n",
      "12271     1282  19.666667  24.750000    82       8     16      Cycle7   \n",
      "12273     1282  24.750000  39.333333    67       6     13      Cycle7   \n",
      "12275     1286  21.166667  42.916667    64       6     12      Cycle7   \n",
      "12277     1282  19.416667  25.416667    81       8     16      Cycle7   \n",
      "\n",
      "           wgtq1q16  \n",
      "1               NaN  \n",
      "2               NaN  \n",
      "5               NaN  \n",
      "8               NaN  \n",
      "10              NaN  \n",
      "...             ...  \n",
      "12270   5220.893454  \n",
      "12271   5152.498030  \n",
      "12273   2830.681441  \n",
      "12275  19328.779624  \n",
      "12277   4876.196382  \n",
      "\n",
      "[9660 rows x 15 columns]\n"
     ]
    }
   ],
   "source": [
    "# check the results\n",
    "print(allMarriedData)"
   ]
  },
  {
   "cell_type": "code",
   "execution_count": 60,
   "metadata": {},
   "outputs": [],
   "source": [
    "# cmdivorcx - contains date of 1st marrage divorce (if exists) in months since December 1899 (century months)\n",
    "# cmmarrhx - date of 1st marrage in century months\n",
    "# cmintvw - interview date in century months\n",
    "# compute duration of marriages that ended in divorce and duration of marriages sof are for ongoing\n",
    "\n",
    "allMarriedData[\"marriageLenth_Divorces\"] = allMarriedData.cmdivorcx - allMarriedData.cmmarrhx\n",
    "allMarriedData[\"marriageLenth_SoFar\"] = allMarriedData.cmintvw - allMarriedData.cmmarrhx\n",
    "\n",
    "#nsfgRespCycle6_married[\"marriageLenth_Divorces\"] = nsfgRespCycle6_married.cmdivorcx - nsfgRespCycle6_married.cmmarrhx\n",
    "#nsfgRespCycle6_married[\"marriageLenth_SoFar\"] = nsfgRespCycle6_married.cmintvw - nsfgRespCycle6_married.cmmarrhx\n",
    "#nsfgRespCycle7_married[\"marriageLenth_Divorces\"] = nsfgRespCycle7_married.cmdivorcx - nsfgRespCycle7_married.cmmarrhx\n",
    "#nsfgRespCycle7_married[\"marriageLenth_SoFar\"] = nsfgRespCycle7_married.cmintvw - nsfgRespCycle7_married.cmmarrhx\n",
    "# check results\n",
    "#nsfgRespCycle6_married.head()"
   ]
  },
  {
   "cell_type": "code",
   "execution_count": 68,
   "metadata": {},
   "outputs": [],
   "source": [
    "import math\n",
    "# create column that combines 2 calcualted columns\n",
    "allMarriedData['marriageLength_All'] = allMarriedData.apply(\n",
    "    lambda row: \n",
    "        row['marriageLenth_SoFar'] if math.isnan(row['marriageLenth_Divorces']) \n",
    "        else row['marriageLenth_Divorces'], \n",
    "    axis=1)\n",
    "\n",
    "# clean up - there are negative values in marriage length due to reported divorce being before the marriage\n",
    "allMarriedData = allMarriedData[allMarriedData[\"marriageLength_All\"] >= 0]\n"
   ]
  },
  {
   "cell_type": "code",
   "execution_count": 69,
   "metadata": {},
   "outputs": [
    {
     "name": "stdout",
     "output_type": "stream",
     "text": [
      "Empty DataFrame\n",
      "Columns: [caseid, cmbirth, evrmarry, cmmarrhx, cmdivorcx, parity, finalwgt, cmintvw, agemarry, age, year, decade, fives, cycleSource, wgtq1q16, marriageLenth_Divorces, marriageLenth_SoFar, marriageLength_All]\n",
      "Index: []\n"
     ]
    }
   ],
   "source": [
    "allMarriedData.marriageLength_All.describe()\n",
    "print(allMarriedData.query('marriageLength_All < 0'))"
   ]
  },
  {
   "cell_type": "code",
   "execution_count": 70,
   "metadata": {},
   "outputs": [
    {
     "data": {
      "image/png": "[encoded data removed]",
      "text/plain": [
       "<Figure size 640x480 with 1 Axes>"
      ]
     },
     "metadata": {},
     "output_type": "display_data"
    }
   ],
   "source": [
    "# plot survival curve from CDF for reference\n",
    "cdf = thinkstats2.Cdf(allMarriedData.marriageLength_All, label=\"CDF\")\n",
    "sf = survival.MakeSurvivalFromCdf(cdf)\n",
    "# plot survival curve\n",
    "thinkplot.plot(sf)"
   ]
  },
  {
   "cell_type": "code",
   "execution_count": null,
   "metadata": {},
   "outputs": [],
   "source": [
    "# estimate Hazard Function\n"
   ]
  }
 ],
 "metadata": {
  "kernelspec": {
   "display_name": ".venv",
   "language": "python",
   "name": "python3"
  },
  "language_info": {
   "codemirror_mode": {
    "name": "ipython",
    "version": 3
   },
   "file_extension": ".py",
   "mimetype": "text/x-python",
   "name": "python",
   "nbconvert_exporter": "python",
   "pygments_lexer": "ipython3",
   "version": "3.11.5"
  }
 },
 "nbformat": 4,
 "nbformat_minor": 2
}
