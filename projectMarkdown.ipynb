{
 "cells": [
  {
   "cell_type": "code",
   "execution_count": 1,
   "metadata": {},
   "outputs": [
    {
     "name": "stdout",
     "output_type": "stream",
     "text": [
      "Downloaded usa_00003.csv.gz\n"
     ]
    }
   ],
   "source": [
    "# download my census extract\n",
    "from os.path import basename, exists\n",
    "def download(url):\n",
    "    filename = basename(url)\n",
    "    if not exists(filename):\n",
    "        from urllib.request import urlretrieve\n",
    "        local, _ = urlretrieve(url, filename)\n",
    "        print(\"Downloaded \" + local)\n",
    "download(\"https://github.com/ryfrank/DSC530-FinalProject/raw/main/usa_00003.csv.gz\")"
   ]
  },
  {
   "cell_type": "code",
   "execution_count": 3,
   "metadata": {},
   "outputs": [
    {
     "name": "stdout",
     "output_type": "stream",
     "text": [
      "Extracting usa_00003.csv from usa_00003.csv.gz\n"
     ]
    }
   ],
   "source": [
    "# unzip file\n",
    "import gzip\n",
    "import shutil\n",
    "if not exists(\"usa_00003.csv\"):\n",
    "    print(\"Extracting usa_00003.csv from usa_00003.csv.gz\")\n",
    "    with gzip.open(\"usa_00003.csv.gz\", \"rb\") as f_in:\n",
    "        with open(\"usa_00003.csv\", \"wb\") as f_out:\n",
    "            shutil.copyfileobj(f_in, f_out)\n"
   ]
  },
  {
   "cell_type": "code",
   "execution_count": 4,
   "metadata": {},
   "outputs": [],
   "source": [
    "# load to data frame\n",
    "import pandas\n",
    "censusData = pandas.read_csv(\"usa_00003.csv\")"
   ]
  },
  {
   "cell_type": "code",
   "execution_count": 5,
   "metadata": {},
   "outputs": [
    {
     "name": "stdout",
     "output_type": "stream",
     "text": [
      "   YEAR  SAMPLE  SERIAL       CBSERIAL  HHWT        CLUSTER  STRATA  GQ  \\\n",
      "0  2022  202201       1  2022010000031  69.0  2022000000011  280301   3   \n",
      "1  2022  202201       2  2022010000111  22.0  2022000000021  200001   3   \n",
      "2  2022  202201       3  2022010000200  45.0  2022000000031  280301   3   \n",
      "3  2022  202201       4  2022010000261   4.0  2022000000041  110001   4   \n",
      "4  2022  202201       5  2022010000296  47.0  2022000000051  150201   3   \n",
      "\n",
      "   PERNUM  PERWT  ...  DEGFIELD2D  EMPSTAT  EMPSTATD  LABFORCE   OCC   IND  \\\n",
      "0       1   69.0  ...           0        3        30         1     0     0   \n",
      "1       1   22.0  ...           0        3        30         1  9645  5391   \n",
      "2       1   45.0  ...           0        3        30         1  8800  1180   \n",
      "3       1    4.0  ...           0        3        30         1     0     0   \n",
      "4       1   47.0  ...           0        3        30         1  6230   770   \n",
      "\n",
      "   INCTOT  INCWAGE  PWSTATE2  PWCOUNTY  \n",
      "0   18800        0         0         0  \n",
      "1   12500    12500         0         0  \n",
      "2   16400    16400         0         0  \n",
      "3    8600        0         0         0  \n",
      "4    5000        0         0         0  \n",
      "\n",
      "[5 rows x 36 columns]\n"
     ]
    }
   ],
   "source": [
    "# Test load of data frame\n",
    "print(censusData.head())"
   ]
  },
  {
   "cell_type": "markdown",
   "metadata": {},
   "source": [
    "Data Filters & Cleaning\n",
    "\n",
    "As I am looking to explore education and income - I want to limit my analysis to those who are employed and have income (This is a simplication but I'm focusing on my statistical question)  I will also need to remove records where there is missing data\n"
   ]
  },
  {
   "cell_type": "code",
   "execution_count": 19,
   "metadata": {},
   "outputs": [
    {
     "name": "stdout",
     "output_type": "stream",
     "text": [
      "1489121\n"
     ]
    },
    {
     "data": {
      "text/plain": [
       "count    1.489121e+06\n",
       "mean     6.459995e+04\n",
       "std      7.775870e+04\n",
       "min      4.000000e+00\n",
       "25%      2.400000e+04\n",
       "50%      4.500000e+04\n",
       "75%      8.000000e+04\n",
       "max      7.910000e+05\n",
       "Name: INCWAGE, dtype: float64"
      ]
     },
     "execution_count": 19,
     "metadata": {},
     "output_type": "execute_result"
    }
   ],
   "source": [
    "# Filter conditions\n",
    "# EMPSTAT - indicates if person was part of the labor force - for my purposes I'm looking where the value is 1 for Employed\n",
    "censusDataFilter = censusData[censusData[\"EMPSTAT\"] == 1]\n",
    "# INCWAGE - wage and salary income for the prior year - remove no income, and codes for no data available\n",
    "censusDataFilter = censusDataFilter[censusDataFilter[\"INCWAGE\"] > 0]            # no income\n",
    "censusDataFilter = censusDataFilter[censusDataFilter[\"INCWAGE\"] != 999999]      # coded N/A\n",
    "censusDataFilter = censusDataFilter[censusDataFilter[\"INCWAGE\"] != 999998]      # coded Missing\n",
    "\n",
    "print(censusDataFilter.shape[0])\n",
    "\n",
    "censusDataFilter.INCWAGE.describe()"
   ]
  },
  {
   "cell_type": "markdown",
   "metadata": {},
   "source": [
    "Variables:\n",
    "NCHILD - Number of own children in household\n",
    "\n",
    "I expect this to be a proxy for choices made that could effect income - having more children at home would indicate that career choices are made that would effect income to support that."
   ]
  },
  {
   "cell_type": "code",
   "execution_count": 20,
   "metadata": {},
   "outputs": [
    {
     "data": {
      "text/plain": [
       "(array([2.478293e+06, 4.342190e+05, 2.992990e+05, 1.128400e+05,\n",
       "        3.427400e+04, 9.291000e+03, 3.009000e+03, 1.137000e+03,\n",
       "        5.660000e+02, 4.500000e+02]),\n",
       " array([0. , 0.9, 1.8, 2.7, 3.6, 4.5, 5.4, 6.3, 7.2, 8.1, 9. ]),\n",
       " <BarContainer object of 10 artists>)"
      ]
     },
     "execution_count": 20,
     "metadata": {},
     "output_type": "execute_result"
    },
    {
     "data": {
      "image/png": "[encoded data removed]",
      "text/plain": [
       "<Figure size 640x480 with 1 Axes>"
      ]
     },
     "metadata": {},
     "output_type": "display_data"
    }
   ],
   "source": [
    "import matplotlib.pyplot as plt \n",
    "\n",
    "plt.hist(censusData[\"NCHILD\"])"
   ]
  }
 ],
 "metadata": {
  "kernelspec": {
   "display_name": ".venv",
   "language": "python",
   "name": "python3"
  },
  "language_info": {
   "codemirror_mode": {
    "name": "ipython",
    "version": 3
   },
   "file_extension": ".py",
   "mimetype": "text/x-python",
   "name": "python",
   "nbconvert_exporter": "python",
   "pygments_lexer": "ipython3",
   "version": "3.11.5"
  }
 },
 "nbformat": 4,
 "nbformat_minor": 2
}
