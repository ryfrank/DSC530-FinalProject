{
 "cells": [
  {
   "cell_type": "code",
   "execution_count": 2,
   "metadata": {},
   "outputs": [],
   "source": [
    "# usual download function to get provided libraries\n",
    "from os.path import basename, exists\n",
    "def download(url):\n",
    "    filename = basename(url)\n",
    "    if not exists(filename):\n",
    "        from urllib.request import urlretrieve\n",
    "\n",
    "        local, _ = urlretrieve(url, filename)\n",
    "        print(\"Downloaded \" + local)\n",
    "\n",
    "download(\"https://github.com/AllenDowney/ThinkStats2/raw/master/code/thinkstats2.py\")\n",
    "download(\"https://github.com/AllenDowney/ThinkStats2/raw/master/code/thinkplot.py\")"
   ]
  },
  {
   "cell_type": "code",
   "execution_count": 4,
   "metadata": {},
   "outputs": [
    {
     "name": "stdout",
     "output_type": "stream",
     "text": [
      "Downloaded timeseries.py\n"
     ]
    }
   ],
   "source": [
    "# download data and code files for chapter\n",
    "download(\"https://github.com/AllenDowney/ThinkStats2/raw/master/code/mj-clean.csv\")\n",
    "download(\"https://github.com/AllenDowney/ThinkStats2/raw/master/code/timeseries.py\")"
   ]
  },
  {
   "cell_type": "code",
   "execution_count": 7,
   "metadata": {},
   "outputs": [
    {
     "name": "stderr",
     "output_type": "stream",
     "text": [
      "c:\\Users\\p3083416\\OneDrive - Charter Communications\\Documents\\GitHub\\DSC530-FinalProject\\timeseries.py:56: FutureWarning: The provided callable <function mean at 0x0000027F63BECCC0> is currently using DataFrameGroupBy.mean. In a future version of pandas, the provided callable will be used directly. To keep current behavior pass the string \"mean\" instead.\n",
      "  daily = groups.aggregate(func)\n",
      "c:\\Users\\p3083416\\OneDrive - Charter Communications\\Documents\\GitHub\\DSC530-FinalProject\\timeseries.py:59: FutureWarning: Series.__getitem__ treating keys as positions is deprecated. In a future version, integer keys will always be treated as labels (consistent with DataFrame behavior). To access a value by position, use `ser.iloc[pos]`\n",
      "  start = daily.date[0]\n"
     ]
    },
    {
     "ename": "ValueError",
     "evalue": "Unit Y is not supported. Only unambiguous timedelta values durations are supported. Allowed units are 'W', 'D', 'h', 'm', 's', 'ms', 'us', 'ns'",
     "output_type": "error",
     "traceback": [
      "\u001b[1;31m---------------------------------------------------------------------------\u001b[0m",
      "\u001b[1;31mValueError\u001b[0m                                Traceback (most recent call last)",
      "Cell \u001b[1;32mIn[7], line 6\u001b[0m\n\u001b[0;32m      3\u001b[0m \u001b[38;5;28;01mimport\u001b[39;00m \u001b[38;5;21;01mpandas\u001b[39;00m\n\u001b[0;32m      5\u001b[0m transactions \u001b[38;5;241m=\u001b[39m pandas\u001b[38;5;241m.\u001b[39mread_csv(\u001b[38;5;124m\"\u001b[39m\u001b[38;5;124mmj-clean.csv\u001b[39m\u001b[38;5;124m\"\u001b[39m, parse_dates\u001b[38;5;241m=\u001b[39m[\u001b[38;5;241m5\u001b[39m])\n\u001b[1;32m----> 6\u001b[0m dailies \u001b[38;5;241m=\u001b[39m \u001b[43mtimeseries\u001b[49m\u001b[38;5;241;43m.\u001b[39;49m\u001b[43mGroupByQualityAndDay\u001b[49m\u001b[43m(\u001b[49m\u001b[43mtransactions\u001b[49m\u001b[43m)\u001b[49m\n\u001b[0;32m      8\u001b[0m \u001b[38;5;28mprint\u001b[39m(transactions)\n",
      "File \u001b[1;32mc:\\Users\\p3083416\\OneDrive - Charter Communications\\Documents\\GitHub\\DSC530-FinalProject\\timeseries.py:76\u001b[0m, in \u001b[0;36mGroupByQualityAndDay\u001b[1;34m(transactions)\u001b[0m\n\u001b[0;32m     74\u001b[0m dailies \u001b[38;5;241m=\u001b[39m {}\n\u001b[0;32m     75\u001b[0m \u001b[38;5;28;01mfor\u001b[39;00m name, group \u001b[38;5;129;01min\u001b[39;00m groups:\n\u001b[1;32m---> 76\u001b[0m     dailies[name] \u001b[38;5;241m=\u001b[39m \u001b[43mGroupByDay\u001b[49m\u001b[43m(\u001b[49m\u001b[43mgroup\u001b[49m\u001b[43m)\u001b[49m        \n\u001b[0;32m     78\u001b[0m \u001b[38;5;28;01mreturn\u001b[39;00m dailies\n",
      "File \u001b[1;32mc:\\Users\\p3083416\\OneDrive - Charter Communications\\Documents\\GitHub\\DSC530-FinalProject\\timeseries.py:61\u001b[0m, in \u001b[0;36mGroupByDay\u001b[1;34m(transactions, func)\u001b[0m\n\u001b[0;32m     59\u001b[0m start \u001b[38;5;241m=\u001b[39m daily\u001b[38;5;241m.\u001b[39mdate[\u001b[38;5;241m0\u001b[39m]\n\u001b[0;32m     60\u001b[0m one_year \u001b[38;5;241m=\u001b[39m np\u001b[38;5;241m.\u001b[39mtimedelta64(\u001b[38;5;241m1\u001b[39m, \u001b[38;5;124m'\u001b[39m\u001b[38;5;124mY\u001b[39m\u001b[38;5;124m'\u001b[39m)\n\u001b[1;32m---> 61\u001b[0m daily[\u001b[38;5;124m'\u001b[39m\u001b[38;5;124myears\u001b[39m\u001b[38;5;124m'\u001b[39m] \u001b[38;5;241m=\u001b[39m \u001b[43m(\u001b[49m\u001b[43mdaily\u001b[49m\u001b[38;5;241;43m.\u001b[39;49m\u001b[43mdate\u001b[49m\u001b[43m \u001b[49m\u001b[38;5;241;43m-\u001b[39;49m\u001b[43m \u001b[49m\u001b[43mstart\u001b[49m\u001b[43m)\u001b[49m\u001b[43m \u001b[49m\u001b[38;5;241;43m/\u001b[39;49m\u001b[43m \u001b[49m\u001b[43mone_year\u001b[49m\n\u001b[0;32m     63\u001b[0m \u001b[38;5;28;01mreturn\u001b[39;00m daily\n",
      "File \u001b[1;32mc:\\Users\\p3083416\\OneDrive - Charter Communications\\Documents\\GitHub\\DSC530-FinalProject\\.venv\\Lib\\site-packages\\pandas\\core\\ops\\common.py:76\u001b[0m, in \u001b[0;36m_unpack_zerodim_and_defer.<locals>.new_method\u001b[1;34m(self, other)\u001b[0m\n\u001b[0;32m     72\u001b[0m             \u001b[38;5;28;01mreturn\u001b[39;00m \u001b[38;5;28mNotImplemented\u001b[39m\n\u001b[0;32m     74\u001b[0m other \u001b[38;5;241m=\u001b[39m item_from_zerodim(other)\n\u001b[1;32m---> 76\u001b[0m \u001b[38;5;28;01mreturn\u001b[39;00m \u001b[43mmethod\u001b[49m\u001b[43m(\u001b[49m\u001b[38;5;28;43mself\u001b[39;49m\u001b[43m,\u001b[49m\u001b[43m \u001b[49m\u001b[43mother\u001b[49m\u001b[43m)\u001b[49m\n",
      "File \u001b[1;32mc:\\Users\\p3083416\\OneDrive - Charter Communications\\Documents\\GitHub\\DSC530-FinalProject\\.venv\\Lib\\site-packages\\pandas\\core\\arraylike.py:210\u001b[0m, in \u001b[0;36mOpsMixin.__truediv__\u001b[1;34m(self, other)\u001b[0m\n\u001b[0;32m    208\u001b[0m \u001b[38;5;129m@unpack_zerodim_and_defer\u001b[39m(\u001b[38;5;124m\"\u001b[39m\u001b[38;5;124m__truediv__\u001b[39m\u001b[38;5;124m\"\u001b[39m)\n\u001b[0;32m    209\u001b[0m \u001b[38;5;28;01mdef\u001b[39;00m \u001b[38;5;21m__truediv__\u001b[39m(\u001b[38;5;28mself\u001b[39m, other):\n\u001b[1;32m--> 210\u001b[0m     \u001b[38;5;28;01mreturn\u001b[39;00m \u001b[38;5;28;43mself\u001b[39;49m\u001b[38;5;241;43m.\u001b[39;49m\u001b[43m_arith_method\u001b[49m\u001b[43m(\u001b[49m\u001b[43mother\u001b[49m\u001b[43m,\u001b[49m\u001b[43m \u001b[49m\u001b[43moperator\u001b[49m\u001b[38;5;241;43m.\u001b[39;49m\u001b[43mtruediv\u001b[49m\u001b[43m)\u001b[49m\n",
      "File \u001b[1;32mc:\\Users\\p3083416\\OneDrive - Charter Communications\\Documents\\GitHub\\DSC530-FinalProject\\.venv\\Lib\\site-packages\\pandas\\core\\series.py:6135\u001b[0m, in \u001b[0;36mSeries._arith_method\u001b[1;34m(self, other, op)\u001b[0m\n\u001b[0;32m   6133\u001b[0m \u001b[38;5;28;01mdef\u001b[39;00m \u001b[38;5;21m_arith_method\u001b[39m(\u001b[38;5;28mself\u001b[39m, other, op):\n\u001b[0;32m   6134\u001b[0m     \u001b[38;5;28mself\u001b[39m, other \u001b[38;5;241m=\u001b[39m \u001b[38;5;28mself\u001b[39m\u001b[38;5;241m.\u001b[39m_align_for_op(other)\n\u001b[1;32m-> 6135\u001b[0m     \u001b[38;5;28;01mreturn\u001b[39;00m \u001b[43mbase\u001b[49m\u001b[38;5;241;43m.\u001b[39;49m\u001b[43mIndexOpsMixin\u001b[49m\u001b[38;5;241;43m.\u001b[39;49m\u001b[43m_arith_method\u001b[49m\u001b[43m(\u001b[49m\u001b[38;5;28;43mself\u001b[39;49m\u001b[43m,\u001b[49m\u001b[43m \u001b[49m\u001b[43mother\u001b[49m\u001b[43m,\u001b[49m\u001b[43m \u001b[49m\u001b[43mop\u001b[49m\u001b[43m)\u001b[49m\n",
      "File \u001b[1;32mc:\\Users\\p3083416\\OneDrive - Charter Communications\\Documents\\GitHub\\DSC530-FinalProject\\.venv\\Lib\\site-packages\\pandas\\core\\base.py:1376\u001b[0m, in \u001b[0;36mIndexOpsMixin._arith_method\u001b[1;34m(self, other, op)\u001b[0m\n\u001b[0;32m   1374\u001b[0m lvalues \u001b[38;5;241m=\u001b[39m \u001b[38;5;28mself\u001b[39m\u001b[38;5;241m.\u001b[39m_values\n\u001b[0;32m   1375\u001b[0m rvalues \u001b[38;5;241m=\u001b[39m extract_array(other, extract_numpy\u001b[38;5;241m=\u001b[39m\u001b[38;5;28;01mTrue\u001b[39;00m, extract_range\u001b[38;5;241m=\u001b[39m\u001b[38;5;28;01mTrue\u001b[39;00m)\n\u001b[1;32m-> 1376\u001b[0m rvalues \u001b[38;5;241m=\u001b[39m \u001b[43mops\u001b[49m\u001b[38;5;241;43m.\u001b[39;49m\u001b[43mmaybe_prepare_scalar_for_op\u001b[49m\u001b[43m(\u001b[49m\u001b[43mrvalues\u001b[49m\u001b[43m,\u001b[49m\u001b[43m \u001b[49m\u001b[43mlvalues\u001b[49m\u001b[38;5;241;43m.\u001b[39;49m\u001b[43mshape\u001b[49m\u001b[43m)\u001b[49m\n\u001b[0;32m   1377\u001b[0m rvalues \u001b[38;5;241m=\u001b[39m ensure_wrapped_if_datetimelike(rvalues)\n\u001b[0;32m   1378\u001b[0m \u001b[38;5;28;01mif\u001b[39;00m \u001b[38;5;28misinstance\u001b[39m(rvalues, \u001b[38;5;28mrange\u001b[39m):\n",
      "File \u001b[1;32mc:\\Users\\p3083416\\OneDrive - Charter Communications\\Documents\\GitHub\\DSC530-FinalProject\\.venv\\Lib\\site-packages\\pandas\\core\\ops\\array_ops.py:571\u001b[0m, in \u001b[0;36mmaybe_prepare_scalar_for_op\u001b[1;34m(obj, shape)\u001b[0m\n\u001b[0;32m    566\u001b[0m         \u001b[38;5;28;01mreturn\u001b[39;00m TimedeltaArray\u001b[38;5;241m.\u001b[39m_simple_new(right, dtype\u001b[38;5;241m=\u001b[39mright\u001b[38;5;241m.\u001b[39mdtype)\n\u001b[0;32m    568\u001b[0m     \u001b[38;5;66;03m# In particular non-nanosecond timedelta64 needs to be cast to\u001b[39;00m\n\u001b[0;32m    569\u001b[0m     \u001b[38;5;66;03m#  nanoseconds, or else we get undesired behavior like\u001b[39;00m\n\u001b[0;32m    570\u001b[0m     \u001b[38;5;66;03m#  np.timedelta64(3, 'D') / 2 == np.timedelta64(1, 'D')\u001b[39;00m\n\u001b[1;32m--> 571\u001b[0m     \u001b[38;5;28;01mreturn\u001b[39;00m \u001b[43mTimedelta\u001b[49m\u001b[43m(\u001b[49m\u001b[43mobj\u001b[49m\u001b[43m)\u001b[49m\n\u001b[0;32m    573\u001b[0m \u001b[38;5;66;03m# We want NumPy numeric scalars to behave like Python scalars\u001b[39;00m\n\u001b[0;32m    574\u001b[0m \u001b[38;5;66;03m# post NEP 50\u001b[39;00m\n\u001b[0;32m    575\u001b[0m \u001b[38;5;28;01melif\u001b[39;00m \u001b[38;5;28misinstance\u001b[39m(obj, np\u001b[38;5;241m.\u001b[39minteger):\n",
      "File \u001b[1;32mtimedeltas.pyx:1870\u001b[0m, in \u001b[0;36mpandas._libs.tslibs.timedeltas.Timedelta.__new__\u001b[1;34m()\u001b[0m\n",
      "\u001b[1;31mValueError\u001b[0m: Unit Y is not supported. Only unambiguous timedelta values durations are supported. Allowed units are 'W', 'D', 'h', 'm', 's', 'ms', 'us', 'ns'"
     ]
    }
   ],
   "source": [
    "# load data and use provided functions to create dataframe containing daily data\n",
    "import timeseries\n",
    "import pandas\n",
    "\n",
    "transactions = pandas.read_csv(\"mj-clean.csv\", parse_dates=[5])\n",
    "dailies = timeseries.GroupByQualityAndDay(transactions)\n",
    "\n",
    "print(transactions)"
   ]
  },
  {
   "cell_type": "code",
   "execution_count": 8,
   "metadata": {},
   "outputs": [
    {
     "name": "stdout",
     "output_type": "stream",
     "text": [
      "1 years\n"
     ]
    }
   ],
   "source": [
    "import numpy as np\n",
    "\n",
    "one_year = np.timedelta64(1, 'Y')\n",
    "print(one_year)"
   ]
  },
  {
   "cell_type": "code",
   "execution_count": 9,
   "metadata": {},
   "outputs": [],
   "source": [
    "# import statemodels library\n",
    "import statsmodels.formula.api as smf\n",
    "\n",
    "# create runQuadModel based on RunLinearModel on page 148 of text\n",
    "#  add years squared to make quadratic and apply model for ordinary least squares\n",
    "def runQuadModel(dailyDataFrame):\n",
    "    dailyDataFrame[\"yearsSq\"] = dailyDataFrame.years**2\n",
    "    model = smf.ols('ppg ~ years + yearsSq', data=dailyDataFrame)\n",
    "    results = model.fit()\n",
    "    return model, results\n",
    "\n",
    "\n",
    "    "
   ]
  }
 ],
 "metadata": {
  "kernelspec": {
   "display_name": ".venv",
   "language": "python",
   "name": "python3"
  },
  "language_info": {
   "codemirror_mode": {
    "name": "ipython",
    "version": 3
   },
   "file_extension": ".py",
   "mimetype": "text/x-python",
   "name": "python",
   "nbconvert_exporter": "python",
   "pygments_lexer": "ipython3",
   "version": "3.11.5"
  }
 },
 "nbformat": 4,
 "nbformat_minor": 2
}
